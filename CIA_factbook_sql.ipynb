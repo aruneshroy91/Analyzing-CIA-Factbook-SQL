{
 "cells": [
  {
   "cell_type": "code",
   "execution_count": 1,
   "metadata": {},
   "outputs": [],
   "source": [
    "import pandas as pd\r\n",
    "import sqlite3"
   ]
  },
  {
   "cell_type": "code",
   "execution_count": 2,
   "metadata": {},
   "outputs": [
    {
     "name": "stdout",
     "output_type": "stream",
     "text": [
      "Requirement already satisfied: ipython-sql in c:\\users\\arunesh\\anaconda3\\lib\\site-packages (0.4.0)\n",
      "Requirement already satisfied: ipython-genutils>=0.1.0 in c:\\users\\arunesh\\anaconda3\\lib\\site-packages (from ipython-sql) (0.2.0)\n",
      "Requirement already satisfied: prettytable<1 in c:\\users\\arunesh\\anaconda3\\lib\\site-packages (from ipython-sql) (0.7.2)\n",
      "Requirement already satisfied: sqlparse in c:\\users\\arunesh\\anaconda3\\lib\\site-packages (from ipython-sql) (0.4.1)\n",
      "Requirement already satisfied: sqlalchemy>=0.6.7 in c:\\users\\arunesh\\anaconda3\\lib\\site-packages (from ipython-sql) (1.3.21)\n",
      "Requirement already satisfied: ipython>=1.0 in c:\\users\\arunesh\\anaconda3\\lib\\site-packages (from ipython-sql) (7.19.0)\n",
      "Requirement already satisfied: six in c:\\users\\arunesh\\anaconda3\\lib\\site-packages (from ipython-sql) (1.15.0)\n",
      "Requirement already satisfied: backcall in c:\\users\\arunesh\\anaconda3\\lib\\site-packages (from ipython>=1.0->ipython-sql) (0.2.0)\n",
      "Requirement already satisfied: jedi>=0.10 in c:\\users\\arunesh\\anaconda3\\lib\\site-packages (from ipython>=1.0->ipython-sql) (0.17.2)\n",
      "Requirement already satisfied: setuptools>=18.5 in c:\\users\\arunesh\\anaconda3\\lib\\site-packages (from ipython>=1.0->ipython-sql) (51.0.0.post20201207)\n",
      "Requirement already satisfied: decorator in c:\\users\\arunesh\\anaconda3\\lib\\site-packages (from ipython>=1.0->ipython-sql) (4.4.2)\n",
      "Requirement already satisfied: pickleshare in c:\\users\\arunesh\\anaconda3\\lib\\site-packages (from ipython>=1.0->ipython-sql) (0.7.5)\n",
      "Requirement already satisfied: prompt-toolkit!=3.0.0,!=3.0.1,<3.1.0,>=2.0.0 in c:\\users\\arunesh\\anaconda3\\lib\\site-packages (from ipython>=1.0->ipython-sql) (3.0.8)\n",
      "Requirement already satisfied: traitlets>=4.2 in c:\\users\\arunesh\\anaconda3\\lib\\site-packages (from ipython>=1.0->ipython-sql) (5.0.5)\n",
      "Requirement already satisfied: colorama in c:\\users\\arunesh\\anaconda3\\lib\\site-packages (from ipython>=1.0->ipython-sql) (0.4.4)\n",
      "Requirement already satisfied: pygments in c:\\users\\arunesh\\anaconda3\\lib\\site-packages (from ipython>=1.0->ipython-sql) (2.7.3)\n",
      "Requirement already satisfied: parso<0.8.0,>=0.7.0 in c:\\users\\arunesh\\anaconda3\\lib\\site-packages (from jedi>=0.10->ipython>=1.0->ipython-sql) (0.7.0)\n",
      "Requirement already satisfied: wcwidth in c:\\users\\arunesh\\anaconda3\\lib\\site-packages (from prompt-toolkit!=3.0.0,!=3.0.1,<3.1.0,>=2.0.0->ipython>=1.0->ipython-sql) (0.2.5)\n"
     ]
    }
   ],
   "source": [
    "# install the ipython-sql library\r\n",
    "!pip install ipython-sql"
   ]
  },
  {
   "cell_type": "code",
   "execution_count": 3,
   "metadata": {},
   "outputs": [
    {
     "name": "stdout",
     "output_type": "stream",
     "text": [
      "Requirement already satisfied: sqlfluff in c:\\users\\arunesh\\anaconda3\\lib\\site-packages (0.6.0)\n",
      "Requirement already satisfied: diff-cover>=2.5.0 in c:\\users\\arunesh\\anaconda3\\lib\\site-packages (from sqlfluff) (5.1.2)\n",
      "Requirement already satisfied: typing-extensions in c:\\users\\arunesh\\anaconda3\\lib\\site-packages (from sqlfluff) (3.7.4.3)\n",
      "Requirement already satisfied: oyaml in c:\\users\\arunesh\\anaconda3\\lib\\site-packages (from sqlfluff) (1.0)\n",
      "Requirement already satisfied: Jinja2 in c:\\users\\arunesh\\anaconda3\\lib\\site-packages (from sqlfluff) (2.11.2)\n",
      "Requirement already satisfied: cached-property in c:\\users\\arunesh\\anaconda3\\lib\\site-packages (from sqlfluff) (1.5.2)\n",
      "Requirement already satisfied: click>=7.1 in c:\\users\\arunesh\\anaconda3\\lib\\site-packages (from sqlfluff) (7.1.2)\n",
      "Requirement already satisfied: appdirs in c:\\users\\arunesh\\anaconda3\\lib\\site-packages (from sqlfluff) (1.4.4)\n",
      "Requirement already satisfied: pytest in c:\\users\\arunesh\\anaconda3\\lib\\site-packages (from sqlfluff) (0.0.0)\n",
      "Requirement already satisfied: configparser in c:\\users\\arunesh\\anaconda3\\lib\\site-packages (from sqlfluff) (5.0.2)\n",
      "Requirement already satisfied: colorama>=0.3 in c:\\users\\arunesh\\anaconda3\\lib\\site-packages (from sqlfluff) (0.4.4)\n",
      "Requirement already satisfied: toml in c:\\users\\arunesh\\anaconda3\\lib\\site-packages (from sqlfluff) (0.10.1)\n",
      "Requirement already satisfied: tblib in c:\\users\\arunesh\\anaconda3\\lib\\site-packages (from sqlfluff) (1.7.0)\n",
      "Requirement already satisfied: pathspec in c:\\users\\arunesh\\anaconda3\\lib\\site-packages (from sqlfluff) (0.7.0)\n",
      "Requirement already satisfied: jinja2-pluralize in c:\\users\\arunesh\\anaconda3\\lib\\site-packages (from diff-cover>=2.5.0->sqlfluff) (0.3.0)\n",
      "Requirement already satisfied: pluggy in c:\\users\\arunesh\\anaconda3\\lib\\site-packages (from diff-cover>=2.5.0->sqlfluff) (0.13.1)\n",
      "Requirement already satisfied: pygments in c:\\users\\arunesh\\anaconda3\\lib\\site-packages (from diff-cover>=2.5.0->sqlfluff) (2.7.3)\n",
      "Requirement already satisfied: chardet>=3.0.0 in c:\\users\\arunesh\\anaconda3\\lib\\site-packages (from diff-cover>=2.5.0->sqlfluff) (4.0.0)\n",
      "Requirement already satisfied: MarkupSafe>=0.23 in c:\\users\\arunesh\\anaconda3\\lib\\site-packages (from Jinja2->sqlfluff) (1.1.1)\n",
      "Requirement already satisfied: inflect>=0.2.4 in c:\\users\\arunesh\\anaconda3\\lib\\site-packages (from jinja2-pluralize->diff-cover>=2.5.0->sqlfluff) (5.3.0)\n",
      "Requirement already satisfied: pyyaml in c:\\users\\arunesh\\anaconda3\\lib\\site-packages (from oyaml->sqlfluff) (5.3.1)\n",
      "Requirement already satisfied: attrs>=19.2.0 in c:\\users\\arunesh\\anaconda3\\lib\\site-packages (from pytest->sqlfluff) (20.3.0)\n",
      "Requirement already satisfied: iniconfig in c:\\users\\arunesh\\anaconda3\\lib\\site-packages (from pytest->sqlfluff) (1.1.1)\n",
      "Requirement already satisfied: packaging in c:\\users\\arunesh\\anaconda3\\lib\\site-packages (from pytest->sqlfluff) (20.8)\n",
      "Requirement already satisfied: py>=1.8.2 in c:\\users\\arunesh\\anaconda3\\lib\\site-packages (from pytest->sqlfluff) (1.10.0)\n",
      "Requirement already satisfied: atomicwrites>=1.0 in c:\\users\\arunesh\\anaconda3\\lib\\site-packages (from pytest->sqlfluff) (1.4.0)\n",
      "Requirement already satisfied: pyparsing>=2.0.2 in c:\\users\\arunesh\\anaconda3\\lib\\site-packages (from packaging->pytest->sqlfluff) (2.4.7)\n"
     ]
    }
   ],
   "source": [
    "!pip install sqlfluff"
   ]
  },
  {
   "cell_type": "code",
   "execution_count": 4,
   "metadata": {},
   "outputs": [],
   "source": [
    "# We will use sqlite3 library and create a connection\r\n",
    "\r\n",
    "cnn = sqlite3.connect('factbook.db')"
   ]
  },
  {
   "cell_type": "code",
   "execution_count": 5,
   "metadata": {},
   "outputs": [],
   "source": [
    "#load SQL module to python\r\n",
    "%load_ext sql"
   ]
  },
  {
   "cell_type": "code",
   "execution_count": 6,
   "metadata": {},
   "outputs": [],
   "source": [
    "%sql sqlite:///factbook.db"
   ]
  },
  {
   "cell_type": "code",
   "execution_count": 7,
   "metadata": {
    "collapsed": false
   },
   "outputs": [
    {
     "name": "stdout",
     "output_type": "stream",
     "text": [
      " * sqlite:///factbook.db\n",
      "Done.\n"
     ]
    },
    {
     "data": {
      "text/html": [
       "<table>\n",
       "    <tr>\n",
       "        <th>type</th>\n",
       "        <th>name</th>\n",
       "        <th>tbl_name</th>\n",
       "        <th>rootpage</th>\n",
       "        <th>sql</th>\n",
       "    </tr>\n",
       "    <tr>\n",
       "        <td>table</td>\n",
       "        <td>sqlite_sequence</td>\n",
       "        <td>sqlite_sequence</td>\n",
       "        <td>3</td>\n",
       "        <td>CREATE TABLE sqlite_sequence(name,seq)</td>\n",
       "    </tr>\n",
       "    <tr>\n",
       "        <td>table</td>\n",
       "        <td>facts</td>\n",
       "        <td>facts</td>\n",
       "        <td>47</td>\n",
       "        <td>CREATE TABLE &quot;facts&quot; (&quot;id&quot; INTEGER PRIMARY KEY AUTOINCREMENT NOT NULL, &quot;code&quot; varchar(255) NOT NULL, &quot;name&quot; varchar(255) NOT NULL, &quot;area&quot; integer, &quot;area_land&quot; integer, &quot;area_water&quot; integer, &quot;population&quot; integer, &quot;population_growth&quot; float, &quot;birth_rate&quot; float, &quot;death_rate&quot; float, &quot;migration_rate&quot; float)</td>\n",
       "    </tr>\n",
       "</table>"
      ],
      "text/plain": [
       "[('table', 'sqlite_sequence', 'sqlite_sequence', 3, 'CREATE TABLE sqlite_sequence(name,seq)'),\n",
       " ('table', 'facts', 'facts', 47, 'CREATE TABLE \"facts\" (\"id\" INTEGER PRIMARY KEY AUTOINCREMENT NOT NULL, \"code\" varchar(255) NOT NULL, \"name\" varchar(255) NOT NULL, \"area\" integer, \"a ... (4 characters truncated) ... land\" integer, \"area_water\" integer, \"population\" integer, \"population_growth\" float, \"birth_rate\" float, \"death_rate\" float, \"migration_rate\" float)')]"
      ]
     },
     "execution_count": 7,
     "metadata": {},
     "output_type": "execute_result"
    }
   ],
   "source": [
    "%%sql\r\n",
    "SELECT * \r\n",
    "    FROM sqlite_master\r\n",
    "  WHERE type= 'table'"
   ]
  },
  {
   "cell_type": "code",
   "execution_count": 8,
   "metadata": {
    "collapsed": false
   },
   "outputs": [
    {
     "name": "stdout",
     "output_type": "stream",
     "text": [
      " * sqlite:///factbook.db\n",
      "Done.\n"
     ]
    },
    {
     "data": {
      "text/html": [
       "<table>\n",
       "    <tr>\n",
       "        <th>MIN(population)</th>\n",
       "        <th>MAX(population)</th>\n",
       "        <th>MIN(population_growth)</th>\n",
       "        <th>MAX(population_growth)</th>\n",
       "    </tr>\n",
       "    <tr>\n",
       "        <td>0</td>\n",
       "        <td>7256490011</td>\n",
       "        <td>0.0</td>\n",
       "        <td>4.02</td>\n",
       "    </tr>\n",
       "</table>"
      ],
      "text/plain": [
       "[(0, 7256490011, 0.0, 4.02)]"
      ]
     },
     "execution_count": 8,
     "metadata": {},
     "output_type": "execute_result"
    }
   ],
   "source": [
    "%%sql\n",
    "SELECT \n",
    "    MIN(population), \n",
    "    MAX(population), \n",
    "    MIN(population_growth),\n",
    "    MAX(population_growth)\n",
    "    FROM facts;"
   ]
  },
  {
   "cell_type": "code",
   "execution_count": 9,
   "metadata": {
    "collapsed": false
   },
   "outputs": [
    {
     "name": "stdout",
     "output_type": "stream",
     "text": [
      " * sqlite:///factbook.db\n",
      "Done.\n"
     ]
    },
    {
     "data": {
      "text/html": [
       "<table>\n",
       "    <tr>\n",
       "        <th>name</th>\n",
       "    </tr>\n",
       "    <tr>\n",
       "        <td>Antarctica</td>\n",
       "    </tr>\n",
       "</table>"
      ],
      "text/plain": [
       "[('Antarctica',)]"
      ]
     },
     "execution_count": 9,
     "metadata": {},
     "output_type": "execute_result"
    }
   ],
   "source": [
    "%%sql\n",
    "SELECT name\n",
    "    FROM facts\n",
    "    WHERE population = (SELECT MIN(population)\n",
    "                  FROM facts)"
   ]
  },
  {
   "cell_type": "code",
   "execution_count": 10,
   "metadata": {
    "collapsed": false
   },
   "outputs": [
    {
     "name": "stdout",
     "output_type": "stream",
     "text": [
      " * sqlite:///factbook.db\n",
      "Done.\n"
     ]
    },
    {
     "data": {
      "text/html": [
       "<table>\n",
       "    <tr>\n",
       "        <th>name</th>\n",
       "    </tr>\n",
       "    <tr>\n",
       "        <td>World</td>\n",
       "    </tr>\n",
       "</table>"
      ],
      "text/plain": [
       "[('World',)]"
      ]
     },
     "execution_count": 10,
     "metadata": {},
     "output_type": "execute_result"
    }
   ],
   "source": [
    "%%sql\n",
    "SELECT name\n",
    "    FROM facts\n",
    "    WHERE population = (SELECT MAX(population)\n",
    "                  FROM facts)"
   ]
  },
  {
   "cell_type": "code",
   "execution_count": 11,
   "metadata": {
    "collapsed": false
   },
   "outputs": [
    {
     "name": "stdout",
     "output_type": "stream",
     "text": [
      " * sqlite:///factbook.db\n",
      "Done.\n"
     ]
    },
    {
     "data": {
      "text/html": [
       "<table>\n",
       "    <tr>\n",
       "        <th>MIN(population)</th>\n",
       "        <th>MAX(population)</th>\n",
       "        <th>MIN(population_growth)</th>\n",
       "        <th>MAX(population_growth)</th>\n",
       "    </tr>\n",
       "    <tr>\n",
       "        <td>48</td>\n",
       "        <td>1367485388</td>\n",
       "        <td>0.0</td>\n",
       "        <td>4.02</td>\n",
       "    </tr>\n",
       "</table>"
      ],
      "text/plain": [
       "[(48, 1367485388, 0.0, 4.02)]"
      ]
     },
     "execution_count": 11,
     "metadata": {},
     "output_type": "execute_result"
    }
   ],
   "source": [
    "%%sql\n",
    "SELECT \n",
    "    MIN(population), \n",
    "    MAX(population), \n",
    "    MIN(population_growth),\n",
    "    MAX(population_growth)\n",
    "  FROM facts\n",
    "  WHERE population > (SELECT MIN(population)\n",
    "                        FROM facts) \n",
    "                        AND\n",
    "        population < (SELECT MAX(population)\n",
    "                         FROM facts);"
   ]
  },
  {
   "cell_type": "code",
   "execution_count": 12,
   "metadata": {
    "collapsed": false
   },
   "outputs": [
    {
     "name": "stdout",
     "output_type": "stream",
     "text": [
      " * sqlite:///factbook.db\n",
      "Done.\n"
     ]
    },
    {
     "data": {
      "text/html": [
       "<table>\n",
       "    <tr>\n",
       "        <th>AVG(population)</th>\n",
       "        <th>AVG(area)</th>\n",
       "    </tr>\n",
       "    <tr>\n",
       "        <td>32377011.0125</td>\n",
       "        <td>582949.8523206752</td>\n",
       "    </tr>\n",
       "</table>"
      ],
      "text/plain": [
       "[(32377011.0125, 582949.8523206752)]"
      ]
     },
     "execution_count": 12,
     "metadata": {},
     "output_type": "execute_result"
    }
   ],
   "source": [
    "%%sql\n",
    "SELECT \n",
    "    AVG(population), \n",
    "    AVG(area)\n",
    "    FROM facts\n",
    "  WHERE population > (SELECT MIN(population)\n",
    "                        FROM facts) \n",
    "                        AND\n",
    "        population < (SELECT MAX(population)\n",
    "                         FROM facts);"
   ]
  },
  {
   "cell_type": "code",
   "execution_count": 13,
   "metadata": {
    "collapsed": false
   },
   "outputs": [
    {
     "name": "stdout",
     "output_type": "stream",
     "text": [
      " * sqlite:///factbook.db\n",
      "Done.\n"
     ]
    },
    {
     "data": {
      "text/html": [
       "<table>\n",
       "    <tr>\n",
       "        <th>name</th>\n",
       "    </tr>\n",
       "    <tr>\n",
       "        <td>Bangladesh</td>\n",
       "    </tr>\n",
       "    <tr>\n",
       "        <td>Germany</td>\n",
       "    </tr>\n",
       "    <tr>\n",
       "        <td>Iraq</td>\n",
       "    </tr>\n",
       "    <tr>\n",
       "        <td>Italy</td>\n",
       "    </tr>\n",
       "    <tr>\n",
       "        <td>Japan</td>\n",
       "    </tr>\n",
       "    <tr>\n",
       "        <td>Kenya</td>\n",
       "    </tr>\n",
       "    <tr>\n",
       "        <td>Korea, South</td>\n",
       "    </tr>\n",
       "    <tr>\n",
       "        <td>Morocco</td>\n",
       "    </tr>\n",
       "    <tr>\n",
       "        <td>Philippines</td>\n",
       "    </tr>\n",
       "    <tr>\n",
       "        <td>Poland</td>\n",
       "    </tr>\n",
       "    <tr>\n",
       "        <td>Spain</td>\n",
       "    </tr>\n",
       "    <tr>\n",
       "        <td>Thailand</td>\n",
       "    </tr>\n",
       "    <tr>\n",
       "        <td>Uganda</td>\n",
       "    </tr>\n",
       "    <tr>\n",
       "        <td>United Kingdom</td>\n",
       "    </tr>\n",
       "    <tr>\n",
       "        <td>Vietnam</td>\n",
       "    </tr>\n",
       "</table>"
      ],
      "text/plain": [
       "[('Bangladesh',),\n",
       " ('Germany',),\n",
       " ('Iraq',),\n",
       " ('Italy',),\n",
       " ('Japan',),\n",
       " ('Kenya',),\n",
       " ('Korea, South',),\n",
       " ('Morocco',),\n",
       " ('Philippines',),\n",
       " ('Poland',),\n",
       " ('Spain',),\n",
       " ('Thailand',),\n",
       " ('Uganda',),\n",
       " ('United Kingdom',),\n",
       " ('Vietnam',)]"
      ]
     },
     "execution_count": 13,
     "metadata": {},
     "output_type": "execute_result"
    }
   ],
   "source": [
    "%%sql\n",
    "SELECT name\n",
    "    FROM facts\n",
    "  WHERE population > \n",
    "                    (SELECT AVG(population)\n",
    "                        FROM facts\n",
    "                      WHERE population > (SELECT MIN(population)\n",
    "                                            FROM facts) \n",
    "                                            AND\n",
    "                            population < (SELECT MAX(population)\n",
    "                                             FROM facts))\n",
    "  AND area <\n",
    "                    (SELECT AVG(area)\n",
    "                        FROM facts\n",
    "                      WHERE population > (SELECT MIN(population)\n",
    "                                            FROM facts) \n",
    "                                            AND\n",
    "                            population < (SELECT MAX(population)\n",
    "                                             FROM facts))\n",
    "    "
   ]
  },
  {
   "cell_type": "code",
   "execution_count": null,
   "metadata": {
    "collapsed": true
   },
   "outputs": [],
   "source": []
  }
 ],
 "metadata": {
  "interpreter": {
   "hash": "a7c62af40af18bc5177663327d031688dc12a6ab89afb8b930ea67d36fe6623b"
  },
  "kernelspec": {
   "display_name": "Python 3.8.5 64-bit ('base': conda)",
   "name": "python3"
  },
  "language_info": {
   "codemirror_mode": {
    "name": "ipython",
    "version": 3
   },
   "file_extension": ".py",
   "mimetype": "text/x-python",
   "name": "python",
   "nbconvert_exporter": "python",
   "pygments_lexer": "ipython3",
   "version": "3.8.5"
  }
 },
 "nbformat": 4,
 "nbformat_minor": 2
}